{
 "cells": [
  {
   "attachments": {},
   "cell_type": "markdown",
   "metadata": {},
   "source": [
    "# Compare OpenAI and local LLM (GPT4ALL-J + HF Instructor Embeddings)"
   ]
  },
  {
   "attachments": {},
   "cell_type": "markdown",
   "metadata": {},
   "source": [
    "## OpenAI Embeddings vs. Local Embeddings\n",
    "Performance Comparison\n",
    "- OpenAI's Embedding Model\n",
    "- InstructorEmbedding (https://huggingface.co/hkunlp/instructor-xl)"
   ]
  },
  {
   "cell_type": "code",
   "execution_count": 8,
   "metadata": {},
   "outputs": [
    {
     "name": "stdout",
     "output_type": "stream",
     "text": [
      "Name: langchain\n",
      "Version: 0.0.168\n",
      "Summary: Building applications with LLMs through composability\n",
      "Home-page: https://www.github.com/hwchase17/langchain\n",
      "Author: \n",
      "Author-email: \n",
      "License: MIT\n",
      "Location: /usr/local/lib/python3.11/site-packages\n",
      "Requires: aiohttp, dataclasses-json, numexpr, numpy, openapi-schema-pydantic, pydantic, PyYAML, requests, SQLAlchemy, tenacity\n",
      "Required-by: llama-index\n"
     ]
    }
   ],
   "source": [
    "!pip install -qU langchain openai tiktoken chromadb unstructured sentence_transformers InstructorEmbedding\n",
    "!pip show langchain"
   ]
  },
  {
   "attachments": {},
   "cell_type": "markdown",
   "metadata": {},
   "source": [
    "## Setting up LangChain "
   ]
  },
  {
   "cell_type": "code",
   "execution_count": 1,
   "metadata": {},
   "outputs": [
    {
     "data": {
      "text/plain": [
       "True"
      ]
     },
     "execution_count": 1,
     "metadata": {},
     "output_type": "execute_result"
    }
   ],
   "source": [
    "from dotenv import load_dotenv\n",
    "load_dotenv('../.env', override=True)"
   ]
  },
  {
   "cell_type": "code",
   "execution_count": 2,
   "metadata": {},
   "outputs": [
    {
     "name": "stderr",
     "output_type": "stream",
     "text": [
      "/usr/local/lib/python3.11/site-packages/InstructorEmbedding/instructor.py:7: TqdmWarning: IProgress not found. Please update jupyter and ipywidgets. See https://ipywidgets.readthedocs.io/en/stable/user_install.html\n",
      "  from tqdm.autonotebook import trange\n"
     ]
    }
   ],
   "source": [
    "from langchain.vectorstores import Chroma\n",
    "from langchain.text_splitter import RecursiveCharacterTextSplitter\n",
    "from langchain.llms import OpenAI\n",
    "from langchain.chains import RetrievalQA\n",
    "from langchain.document_loaders import TextLoader\n",
    "from langchain.document_loaders import UnstructuredHTMLLoader\n",
    "from langchain.document_loaders import DirectoryLoader\n",
    "from InstructorEmbedding import INSTRUCTOR\n",
    "from langchain.embeddings import HuggingFaceInstructEmbeddings"
   ]
  },
  {
   "attachments": {},
   "cell_type": "markdown",
   "metadata": {},
   "source": [
    "## Load multiple and process documents"
   ]
  },
  {
   "cell_type": "code",
   "execution_count": 36,
   "metadata": {},
   "outputs": [
    {
     "data": {
      "text/plain": [
       "(171, {'source': '../data/docs/www.priceless.com/m/tour-the-city.html'})"
      ]
     },
     "execution_count": 36,
     "metadata": {},
     "output_type": "execute_result"
    }
   ],
   "source": [
    "loader = DirectoryLoader('../data/docs/', glob=\"**/*.html\", loader_cls=UnstructuredHTMLLoader)\n",
    "all_docs = loader.load()\n",
    "len(all_docs), all_docs[0].metadata"
   ]
  },
  {
   "cell_type": "code",
   "execution_count": 16,
   "metadata": {},
   "outputs": [
    {
     "name": "stderr",
     "output_type": "stream",
     "text": [
      "100%|██████████| 171/171 [00:00<00:00, 345484.58it/s]"
     ]
    },
    {
     "name": "stdout",
     "output_type": "stream",
     "text": [
      "CPU times: user 2.55 ms, sys: 3.02 ms, total: 5.57 ms\n",
      "Wall time: 4.61 ms\n"
     ]
    },
    {
     "name": "stderr",
     "output_type": "stream",
     "text": [
      "\n"
     ]
    },
    {
     "data": {
      "text/plain": [
       "(3, {'url': 'https://www.priceless.com/m/filter/options/category/506'})"
      ]
     },
     "execution_count": 16,
     "metadata": {},
     "output_type": "execute_result"
    }
   ],
   "source": [
    "%%time\n",
    "from tqdm.auto import tqdm\n",
    "\n",
    "urls = ['https://www.priceless.com/m/filter/options/category/506', \n",
    "        'https://www.priceless.com/m/filter/options/category/510',\n",
    "        'https://www.priceless.com/m/filter/options/location/9716/trk/20211/']\n",
    "documents = []\n",
    "\n",
    "for doc in tqdm(all_docs):\n",
    "    src = doc.metadata['source']\n",
    "    url = src.replace('../data/docs/', 'https://').replace('index.html', '').replace('.html', '')\n",
    "    if not url in urls:\n",
    "        continue\n",
    "    doc.metadata = dict()\n",
    "    doc.metadata['url'] = url\n",
    "    documents.append(doc)\n",
    "\n",
    "len(documents), documents[0].metadata"
   ]
  },
  {
   "cell_type": "code",
   "execution_count": 17,
   "metadata": {},
   "outputs": [
    {
     "data": {
      "text/plain": [
       "264"
      ]
     },
     "execution_count": 17,
     "metadata": {},
     "output_type": "execute_result"
    }
   ],
   "source": [
    "#splitting the text into\n",
    "text_splitter = RecursiveCharacterTextSplitter(chunk_size=512, chunk_overlap=32)\n",
    "texts = text_splitter.split_documents(documents)\n",
    "len(texts)"
   ]
  },
  {
   "cell_type": "code",
   "execution_count": 18,
   "metadata": {},
   "outputs": [
    {
     "data": {
      "text/plain": [
       "(Document(page_content='Chile (0) \\n        \\n                                                            \\n                                                                    \\n                                     All locations \\n                                            \\n                                                                        \\n                                     Santiago (0)', metadata={'url': 'https://www.priceless.com/m/filter/options/category/510'}),\n",
       " {'url': 'https://www.priceless.com/m/filter/options/category/510'})"
      ]
     },
     "execution_count": 18,
     "metadata": {},
     "output_type": "execute_result"
    }
   ],
   "source": [
    "texts[100], texts[100].metadata"
   ]
  },
  {
   "attachments": {},
   "cell_type": "markdown",
   "metadata": {},
   "source": [
    "## HF Instructor Embeddings"
   ]
  },
  {
   "cell_type": "code",
   "execution_count": 8,
   "metadata": {},
   "outputs": [
    {
     "name": "stdout",
     "output_type": "stream",
     "text": [
      "load INSTRUCTOR_Transformer\n",
      "max_seq_length  512\n"
     ]
    }
   ],
   "source": [
    "from langchain.embeddings import HuggingFaceInstructEmbeddings\n",
    "\n",
    "instructor_embeddings = HuggingFaceInstructEmbeddings(model_name=\"hkunlp/instructor-xl\", \n",
    "                                                      model_kwargs={\"device\": \"cpu\"})"
   ]
  },
  {
   "cell_type": "code",
   "execution_count": 13,
   "metadata": {},
   "outputs": [],
   "source": [
    "## utility functions\n",
    "\n",
    "import textwrap\n",
    "import os\n",
    "\n",
    "def wrap_text_preserve_newlines(text, width=110):\n",
    "    # Split the input text into lines based on newline characters\n",
    "    lines = text.split('\\n')\n",
    "\n",
    "    # Wrap each line individually\n",
    "    wrapped_lines = [textwrap.fill(line, width=width) for line in lines]\n",
    "\n",
    "    # Join the wrapped lines back together using newline characters\n",
    "    wrapped_text = '\\n'.join(wrapped_lines)\n",
    "\n",
    "    return wrapped_text\n",
    "\n",
    "def process_llm_response(llm_response):\n",
    "    print(wrap_text_preserve_newlines(llm_response['result']))\n",
    "    print('\\nSources:')\n",
    "    for source in llm_response[\"source_documents\"]:\n",
    "        print(source.metadata['url'] + \" page: \" + str(source.metadata['page']))\n",
    "        \n",
    "def mkdir(folder):\n",
    "    if not os.path.isdir(folder):\n",
    "        print('The directory is not present. Creating a new one..')\n",
    "        os.mkdir(folder)\n",
    "    else:\n",
    "        print('The directory is present.')"
   ]
  },
  {
   "cell_type": "code",
   "execution_count": 19,
   "metadata": {},
   "outputs": [
    {
     "name": "stderr",
     "output_type": "stream",
     "text": [
      "Using embedded DuckDB with persistence: data will be stored in: ../data/chromadb\n"
     ]
    },
    {
     "name": "stdout",
     "output_type": "stream",
     "text": [
      "The directory is present.\n",
      "CPU times: user 13min 47s, sys: 27.2 s, total: 14min 14s\n",
      "Wall time: 11min 46s\n"
     ]
    }
   ],
   "source": [
    "%%time\n",
    "\n",
    "persist_directory =  '../data/chromadb_hf'\n",
    "mkdir(persist_directory)\n",
    "\n",
    "chromadb_instructor_embeddings = Chroma.from_documents(documents=texts, \n",
    "                                 embedding=instructor_embeddings,\n",
    "                                 persist_directory=persist_directory)\n",
    "\n",
    "chromadb_instructor_embeddings.persist()"
   ]
  },
  {
   "cell_type": "code",
   "execution_count": 20,
   "metadata": {},
   "outputs": [],
   "source": [
    "chromadb_retriever = chromadb_instructor_embeddings.as_retriever(search_kwargs={\"k\": 4})"
   ]
  },
  {
   "cell_type": "code",
   "execution_count": 31,
   "metadata": {},
   "outputs": [
    {
     "name": "stdout",
     "output_type": "stream",
     "text": [
      "CPU times: user 780 ms, sys: 51.1 ms, total: 831 ms\n",
      "Wall time: 826 ms\n"
     ]
    },
    {
     "data": {
      "text/plain": [
       "[Document(page_content='Los Angeles (0) \\n                                            \\n                                                                        \\n                                     Miami (0) \\n                                            \\n                                                                        \\n                                     New York (0)', metadata={'url': 'https://www.priceless.com/m/filter/options/category/506'}),\n",
       " Document(page_content='Los Angeles (0) \\n                                            \\n                                                                        \\n                                     Miami (0) \\n                                            \\n                                                                        \\n                                     New York (0)', metadata={'url': 'https://www.priceless.com/m/filter/options/category/506'}),\n",
       " Document(page_content='Los Angeles (0) \\n                                            \\n                                                                        \\n                                     Miami (0) \\n                                            \\n                                                                        \\n                                     New York (0)', metadata={'url': 'https://www.priceless.com/m/filter/options/location/9716/trk/20211/'}),\n",
       " Document(page_content='Los Angeles (0) \\n                                            \\n                                                                        \\n                                     Miami (0) \\n                                            \\n                                                                        \\n                                     New York (0)', metadata={'url': 'https://www.priceless.com/m/filter/options/location/9716/trk/20211/'})]"
      ]
     },
     "execution_count": 31,
     "metadata": {},
     "output_type": "execute_result"
    }
   ],
   "source": [
    "%%time\n",
    "\n",
    "docs = chromadb_retriever.get_relevant_documents(\"Entertainment in New York\")\n",
    "docs"
   ]
  },
  {
   "attachments": {},
   "cell_type": "markdown",
   "metadata": {},
   "source": [
    "## OpenAI's Embeddings"
   ]
  },
  {
   "cell_type": "code",
   "execution_count": 26,
   "metadata": {},
   "outputs": [],
   "source": [
    "from langchain.embeddings import OpenAIEmbeddings\n",
    "openai_embeddings = OpenAIEmbeddings()"
   ]
  },
  {
   "cell_type": "code",
   "execution_count": 27,
   "metadata": {},
   "outputs": [
    {
     "name": "stderr",
     "output_type": "stream",
     "text": [
      "Using embedded DuckDB with persistence: data will be stored in: ../data/chromadb_openai\n"
     ]
    },
    {
     "name": "stdout",
     "output_type": "stream",
     "text": [
      "The directory is not present. Creating a new one..\n"
     ]
    }
   ],
   "source": [
    "persist_directory =  '../data/chromadb_openai'\n",
    "mkdir(persist_directory)\n",
    "\n",
    "chromadb_openai_embeddings = Chroma.from_documents(documents=texts, \n",
    "                                 embedding=openai_embeddings,\n",
    "                                 persist_directory=persist_directory)"
   ]
  },
  {
   "cell_type": "code",
   "execution_count": 28,
   "metadata": {},
   "outputs": [],
   "source": [
    "chromadb_retriever_openai = chromadb_openai_embeddings.as_retriever(search_kwargs={\"k\": 4})"
   ]
  },
  {
   "cell_type": "code",
   "execution_count": 32,
   "metadata": {},
   "outputs": [
    {
     "name": "stdout",
     "output_type": "stream",
     "text": [
      "CPU times: user 5.09 ms, sys: 1.4 ms, total: 6.49 ms\n",
      "Wall time: 356 ms\n"
     ]
    },
    {
     "data": {
      "text/plain": [
       "[Document(page_content='Los Angeles (0) \\n                                            \\n                                                                        \\n                                     Miami (0) \\n                                            \\n                                                                        \\n                                     New York (0)', metadata={'url': 'https://www.priceless.com/m/filter/options/category/506'}),\n",
       " Document(page_content='Los Angeles (0) \\n                                            \\n                                                                        \\n                                     Miami (0) \\n                                            \\n                                                                        \\n                                     New York (0)', metadata={'url': 'https://www.priceless.com/m/filter/options/category/506'}),\n",
       " Document(page_content='Los Angeles (0) \\n                                            \\n                                                                        \\n                                     Miami (0) \\n                                            \\n                                                                        \\n                                     New York (0)', metadata={'url': 'https://www.priceless.com/m/filter/options/category/510'}),\n",
       " Document(page_content='Los Angeles (0) \\n                                            \\n                                                                        \\n                                     Miami (0) \\n                                            \\n                                                                        \\n                                     New York (0)', metadata={'url': 'https://www.priceless.com/m/filter/options/location/9716/trk/20211/'})]"
      ]
     },
     "execution_count": 32,
     "metadata": {},
     "output_type": "execute_result"
    }
   ],
   "source": [
    "%%time\n",
    "\n",
    "docs = chromadb_retriever_openai.get_relevant_documents(\"Entertainment in New York\")\n",
    "docs"
   ]
  },
  {
   "attachments": {},
   "cell_type": "markdown",
   "metadata": {},
   "source": [
    "## Process all docs with GPT4ALL-J & Chroma"
   ]
  },
  {
   "cell_type": "code",
   "execution_count": 37,
   "metadata": {},
   "outputs": [
    {
     "name": "stderr",
     "output_type": "stream",
     "text": [
      "100%|██████████| 171/171 [00:00<00:00, 275750.09it/s]"
     ]
    },
    {
     "name": "stdout",
     "output_type": "stream",
     "text": [
      "CPU times: user 2.18 ms, sys: 1.15 ms, total: 3.33 ms\n",
      "Wall time: 2.53 ms\n"
     ]
    },
    {
     "name": "stderr",
     "output_type": "stream",
     "text": [
      "\n"
     ]
    },
    {
     "data": {
      "text/plain": [
       "(171, {'url': 'https://www.priceless.com/m/tour-the-city'})"
      ]
     },
     "execution_count": 37,
     "metadata": {},
     "output_type": "execute_result"
    }
   ],
   "source": [
    "%%time\n",
    "from tqdm.auto import tqdm\n",
    "\n",
    "documents = []\n",
    "\n",
    "for doc in tqdm(all_docs):\n",
    "    if 'source' in doc.metadata:\n",
    "        src = doc.metadata['source']\n",
    "        url = src.replace('../data/docs/', 'https://').replace('index.html', '').replace('.html', '')\n",
    "        doc.metadata = dict()\n",
    "        doc.metadata['url'] = url\n",
    "        \n",
    "    documents.append(doc)\n",
    "\n",
    "len(documents), documents[0].metadata"
   ]
  },
  {
   "cell_type": "code",
   "execution_count": 38,
   "metadata": {},
   "outputs": [
    {
     "data": {
      "text/plain": [
       "5488"
      ]
     },
     "execution_count": 38,
     "metadata": {},
     "output_type": "execute_result"
    }
   ],
   "source": [
    "#splitting the text into\n",
    "text_splitter = RecursiveCharacterTextSplitter(chunk_size=512, chunk_overlap=32)\n",
    "texts = text_splitter.split_documents(documents)\n",
    "len(texts)"
   ]
  },
  {
   "cell_type": "code",
   "execution_count": 39,
   "metadata": {},
   "outputs": [
    {
     "name": "stderr",
     "output_type": "stream",
     "text": [
      "Using embedded DuckDB with persistence: data will be stored in: ../data/chromadb\n"
     ]
    },
    {
     "name": "stdout",
     "output_type": "stream",
     "text": [
      "The directory is not present. Creating a new one..\n",
      "CPU times: user 5h 13min 24s, sys: 8min 40s, total: 5h 22min 5s\n",
      "Wall time: 4h 30min 27s\n"
     ]
    }
   ],
   "source": [
    "%%time\n",
    "\n",
    "persist_directory =  '../data/chromadb'\n",
    "mkdir(persist_directory)\n",
    "\n",
    "chromadb_instructor_embeddings = Chroma.from_documents(documents=texts, \n",
    "                                 embedding=instructor_embeddings,\n",
    "                                 persist_directory=persist_directory)\n",
    "\n",
    "chromadb_instructor_embeddings.persist()"
   ]
  },
  {
   "cell_type": "code",
   "execution_count": 41,
   "metadata": {},
   "outputs": [],
   "source": [
    "chromadb_retriever = chromadb_instructor_embeddings.as_retriever(search_kwargs={\"k\": 4})"
   ]
  },
  {
   "cell_type": "code",
   "execution_count": 42,
   "metadata": {},
   "outputs": [
    {
     "name": "stdout",
     "output_type": "stream",
     "text": [
      "CPU times: user 842 ms, sys: 57 ms, total: 899 ms\n",
      "Wall time: 893 ms\n"
     ]
    },
    {
     "data": {
      "text/plain": [
       "[Document(page_content=\"Midnight Theatre\\n\\nFollow\\n\\nReceive star treatment at New York City's Midnight Theatre\\n\\nSavor signature cocktails and dim sum snacks\\n\\nMore...\\n\\nLess\\n\\nNew York, New York\\n\\n2.5 hours\\n\\nThe Midnight Theatre Map it\\n\\n3/31 @ 9:30 p.m. Bingo Night at MT  - Sales closed!\\n\\n4/07 @ 10 p.m. - Rachel Feinstein  - Sales closed!\\n\\n4/10 @ 10 p.m. - Tribulations, Roy Wood  - Sales closed!\\n\\n4/28 @ 10 p.m. - Midnight Follies\\n\\n6/15 @ 10:30 p.m. - Laura Marano\\n\\n5/19 @ 7 p.m. - American Immigrants\\n\\n5/20 @ 7 p.m. - American Immigrants\", metadata={'url': 'https://www.priceless.com/m/entertainment/product/181398/the-midnight-theatre-priceless-night/511/78'}),\n",
       " Document(page_content='Distances are displayed to the nearest 0.1 mile and kilometer. \\n Times Square - 0.1 km / 0.1 mi \\n Broadway - 0.1 km / 0.1 mi \\n Minskoff Theater - 0.1 km / 0.1 mi \\n Lunt-Fontanne Theatre - 0.1 km / 0.1 mi \\n Richard Rodgers Theatre - 0.2 km / 0.1 mi \\n Shubert Theatre - 0.2 km / 0.1 mi \\n St. James Theatre - 0.3 km / 0.2 mi \\n The Majestic Theater - 0.3 km / 0.2 mi \\n New Amsterdam Theater - 0.4 km / 0.2 mi \\n Ambassador Theatre - 0.4 km / 0.2 mi \\n Madame Tussauds Wax Museum - 0.4 km / 0.2 mi', metadata={'url': 'https://www.priceless.com/m/travel/product/171103/new-york-marriott-marquis/509/78'}),\n",
       " Document(page_content='Distances are displayed to the nearest 0.1 mile and kilometer. \\n Times Square - 0.1 km / 0.1 mi \\n Broadway - 0.1 km / 0.1 mi \\n Minskoff Theater - 0.1 km / 0.1 mi \\n Lunt-Fontanne Theatre - 0.1 km / 0.1 mi \\n Richard Rodgers Theatre - 0.2 km / 0.1 mi \\n Shubert Theatre - 0.2 km / 0.1 mi \\n St. James Theatre - 0.3 km / 0.2 mi \\n The Majestic Theater - 0.3 km / 0.2 mi \\n New Amsterdam Theater - 0.4 km / 0.2 mi \\n Ambassador Theatre - 0.4 km / 0.2 mi \\n Madame Tussauds Wax Museum - 0.4 km / 0.2 mi', metadata={'url': 'https://www.priceless.com/travel/product/171103/new-york-marriott-marquis?country=us'}),\n",
       " Document(page_content='Distances are displayed to the nearest 0.1 mile and kilometer. \\n Times Square - 0.1 km / 0.1 mi \\n Broadway - 0.1 km / 0.1 mi \\n Minskoff Theater - 0.1 km / 0.1 mi \\n Lunt-Fontanne Theatre - 0.1 km / 0.1 mi \\n Richard Rodgers Theatre - 0.2 km / 0.1 mi \\n Shubert Theatre - 0.2 km / 0.1 mi \\n St. James Theatre - 0.3 km / 0.2 mi \\n The Majestic Theater - 0.3 km / 0.2 mi \\n New Amsterdam Theater - 0.4 km / 0.2 mi \\n Ambassador Theatre - 0.4 km / 0.2 mi \\n Madame Tussauds Wax Museum - 0.4 km / 0.2 mi', metadata={'url': 'https://www.priceless.com/travel/product/171103/new-york-marriott-marquis/509/78'})]"
      ]
     },
     "execution_count": 42,
     "metadata": {},
     "output_type": "execute_result"
    }
   ],
   "source": [
    "%%time\n",
    "\n",
    "docs = chromadb_retriever.get_relevant_documents(\"Entertainment in New York\")\n",
    "docs"
   ]
  },
  {
   "attachments": {},
   "cell_type": "markdown",
   "metadata": {},
   "source": [
    "## Compare GPT4ALL-J and OpenAI"
   ]
  },
  {
   "cell_type": "code",
   "execution_count": 1,
   "metadata": {},
   "outputs": [],
   "source": [
    "!pip install -qU pygpt4all"
   ]
  },
  {
   "cell_type": "code",
   "execution_count": 43,
   "metadata": {},
   "outputs": [],
   "source": [
    "from langchain import PromptTemplate, LLMChain\n",
    "from langchain.llms import GPT4All\n",
    "from langchain.callbacks.streaming_stdout import StreamingStdOutCallbackHandler"
   ]
  },
  {
   "cell_type": "code",
   "execution_count": 47,
   "metadata": {},
   "outputs": [],
   "source": [
    "local_path = '../../models/ggml-gpt4all-j.bin'  # replace with your desired local file path"
   ]
  },
  {
   "cell_type": "code",
   "execution_count": 48,
   "metadata": {},
   "outputs": [
    {
     "name": "stdout",
     "output_type": "stream",
     "text": [
      "gptj_model_load: loading model from '../../models/ggml-gpt4all-j.bin' - please wait ...\n",
      "gptj_model_load: n_vocab = 50400\n",
      "gptj_model_load: n_ctx   = 2048\n",
      "gptj_model_load: n_embd  = 4096\n",
      "gptj_model_load: n_head  = 16\n",
      "gptj_model_load: n_layer = 28\n",
      "gptj_model_load: n_rot   = 64\n",
      "gptj_model_load: f16     = 2\n",
      "gptj_model_load: ggml ctx size = 4505.45 MB\n",
      "gptj_model_load: memory_size =   896.00 MB, n_mem = 57344\n",
      "gptj_model_load: ................................... done\n",
      "gptj_model_load: model size =  3609.38 MB / num tensors = 285\n"
     ]
    }
   ],
   "source": [
    "# Callbacks support token-wise streaming\n",
    "callbacks = [StreamingStdOutCallbackHandler()]\n",
    "# Verbose is required to pass to the callback manager\n",
    "# llm = GPT4All(model=local_path, callbacks=callbacks, verbose=True)\n",
    "# If you want to use GPT4ALL_J model add the backend parameter\n",
    "llm = GPT4All(model=local_path, backend='gptj', callbacks=callbacks, verbose=True)"
   ]
  },
  {
   "cell_type": "code",
   "execution_count": 51,
   "metadata": {},
   "outputs": [],
   "source": [
    "from langchain.chains import ConversationalRetrievalChain\n",
    "from langchain.memory import ConversationBufferMemory\n",
    "\n",
    "memory = ConversationBufferMemory(memory_key=\"chat_history\", return_messages=True)\n",
    "\n",
    "qa = ConversationalRetrievalChain.from_llm(\n",
    "    llm, chromadb_instructor_embeddings.as_retriever(), max_tokens_limit=400, \n",
    "    memory=memory, return_source_documents=True)"
   ]
  },
  {
   "cell_type": "code",
   "execution_count": 52,
   "metadata": {},
   "outputs": [
    {
     "ename": "",
     "evalue": "",
     "output_type": "error",
     "traceback": [
      "\u001b[1;31mCanceled future for execute_request message before replies were done"
     ]
    },
    {
     "ename": "",
     "evalue": "",
     "output_type": "error",
     "traceback": [
      "\u001b[1;31mThe Kernel crashed while executing code in the the current cell or a previous cell. Please review the code in the cell(s) to identify a possible cause of the failure. Click <a href='https://aka.ms/vscodeJupyterKernelCrash'>here</a> for more info. View Jupyter <a href='command:jupyter.viewOutput'>log</a> for further details."
     ]
    }
   ],
   "source": [
    "%%time\n",
    "\n",
    "question = \"What's Mastercard Priceless?\"\n",
    "llm_response = qa({\"question\": question})\n",
    "llm_response"
   ]
  },
  {
   "cell_type": "code",
   "execution_count": 28,
   "metadata": {},
   "outputs": [
    {
     "name": "stdout",
     "output_type": "stream",
     "text": [
      " The main differences between PCI v3 and v4 are:\n",
      "\n",
      "1. Enhanced Security Requirements: PCI v4 has stricter security requirements compared to PCI v3. This includes\n",
      "mandatory access control (MAC) access control, which is required to protect cardholder data from being\n",
      "accessed by unauthorized parties.\n",
      "\n",
      "2. More Secure Storage: PCI v4 requires storage to be secured and protected, which includes encrypting data\n",
      "stored on storage devices, as well as storing cardholder data in a secure manner.\n",
      "\n",
      "3. New Requirement for PCI v4: The PCI v4 standard now requires that any device that processes cardholder data\n",
      "must have a security control that ensures the protection of cardholder data at rest and in transit.\n",
      "\n",
      "4. Enhanced Compliance Requirements: PCI v4 requires compliance with more comprehensive compliance standards,\n",
      "including ISO/IEC standards and the Payment Card Industry Data Security Standard (PCI DSS).\n",
      "\n",
      "5. Enhanced Security Features: PCI v4 has a more extensive set of security features compared to PCI v3,\n",
      "including:\n",
      "\n",
      "- Enhanced access control requirements, which require devices to have the ability to enforce access control\n",
      "policies based on user roles, authentication credentials, and other factors.\n",
      "- Enhanced storage security requirements, which require storage devices to be\n",
      "\n",
      "Sources:\n",
      "https://docs-prv.pcisecuritystandards.org/PCI%20DSS/Standard/PCI-DSS-v3-2-1-to-v4-0-Summary-of-Changes-r2.pdf page: 0\n",
      "https://docs-prv.pcisecuritystandards.org/PCI%20DSS/Standard/PCI-DSS-v3-2-1-to-v4-0-Summary-of-Changes-r2.pdf page: 3\n",
      "https://docs-prv.pcisecuritystandards.org/PCI%20DSS/Standard/PCI-DSS-v3-2-1-to-v4-0-Summary-of-Changes-r2.pdf page: 9\n",
      "https://docs-prv.pcisecuritystandards.org/PCI%20DSS/Standard/PCI-DSS-v3-2-1-to-v4-0-Summary-of-Changes-r2.pdf page: 1\n"
     ]
    }
   ],
   "source": [
    "process_llm_response(llm_response)"
   ]
  }
 ],
 "metadata": {
  "kernelspec": {
   "display_name": "base",
   "language": "python",
   "name": "python3"
  },
  "language_info": {
   "codemirror_mode": {
    "name": "ipython",
    "version": 3
   },
   "file_extension": ".py",
   "mimetype": "text/x-python",
   "name": "python",
   "nbconvert_exporter": "python",
   "pygments_lexer": "ipython3",
   "version": "3.11.3"
  },
  "orig_nbformat": 4
 },
 "nbformat": 4,
 "nbformat_minor": 2
}
