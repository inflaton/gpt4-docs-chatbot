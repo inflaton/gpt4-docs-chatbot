{
 "cells": [
  {
   "attachments": {},
   "cell_type": "markdown",
   "metadata": {},
   "source": [
    "# Compare OpenAI and local LLM (GPT4ALL-J + HF Instructor Embeddings)"
   ]
  },
  {
   "attachments": {},
   "cell_type": "markdown",
   "metadata": {},
   "source": [
    "## OpenAI Embeddings vs. Local Embeddings\n",
    "Performance Comparison\n",
    "- OpenAI's Embedding Model\n",
    "- InstructorEmbedding (https://huggingface.co/hkunlp/instructor-xl)"
   ]
  },
  {
   "cell_type": "code",
   "execution_count": 1,
   "metadata": {},
   "outputs": [
    {
     "name": "stdout",
     "output_type": "stream",
     "text": [
      "\u001b[31mERROR: pip's dependency resolver does not currently take into account all the packages that are installed. This behaviour is the source of the following dependency conflicts.\n",
      "llama-index 0.5.27 requires langchain==0.0.142, but you have langchain 0.0.169 which is incompatible.\u001b[0m\u001b[31m\n",
      "\u001b[0mName: langchain\n",
      "Version: 0.0.169\n",
      "Summary: Building applications with LLMs through composability\n",
      "Home-page: https://www.github.com/hwchase17/langchain\n",
      "Author: \n",
      "Author-email: \n",
      "License: MIT\n",
      "Location: /Users/inflaton/miniconda3/lib/python3.10/site-packages\n",
      "Requires: aiohttp, async-timeout, dataclasses-json, numexpr, numpy, openapi-schema-pydantic, pydantic, PyYAML, requests, SQLAlchemy, tenacity\n",
      "Required-by: llama-index\n"
     ]
    }
   ],
   "source": [
    "!pip install -qU langchain openai tiktoken chromadb unstructured sentence_transformers InstructorEmbedding\n",
    "!pip show langchain"
   ]
  },
  {
   "attachments": {},
   "cell_type": "markdown",
   "metadata": {},
   "source": [
    "## Setting up LangChain "
   ]
  },
  {
   "cell_type": "code",
   "execution_count": 2,
   "metadata": {},
   "outputs": [
    {
     "data": {
      "text/plain": [
       "True"
      ]
     },
     "execution_count": 2,
     "metadata": {},
     "output_type": "execute_result"
    }
   ],
   "source": [
    "from dotenv import load_dotenv\n",
    "load_dotenv('../.env', override=True)"
   ]
  },
  {
   "cell_type": "code",
   "execution_count": 3,
   "metadata": {},
   "outputs": [
    {
     "name": "stderr",
     "output_type": "stream",
     "text": [
      "/Users/inflaton/miniconda3/lib/python3.10/site-packages/InstructorEmbedding/instructor.py:7: TqdmExperimentalWarning: Using `tqdm.autonotebook.tqdm` in notebook mode. Use `tqdm.tqdm` instead to force console mode (e.g. in jupyter console)\n",
      "  from tqdm.autonotebook import trange\n"
     ]
    }
   ],
   "source": [
    "from langchain.vectorstores import Chroma\n",
    "from langchain.text_splitter import RecursiveCharacterTextSplitter\n",
    "from langchain.llms import OpenAI\n",
    "from langchain.chains import RetrievalQA\n",
    "from langchain.document_loaders import TextLoader\n",
    "from langchain.document_loaders import UnstructuredHTMLLoader\n",
    "from langchain.document_loaders import DirectoryLoader\n",
    "from InstructorEmbedding import INSTRUCTOR\n",
    "from langchain.embeddings import HuggingFaceInstructEmbeddings"
   ]
  },
  {
   "attachments": {},
   "cell_type": "markdown",
   "metadata": {},
   "source": [
    "## Load multiple and process documents"
   ]
  },
  {
   "cell_type": "code",
   "execution_count": 4,
   "metadata": {},
   "outputs": [
    {
     "data": {
      "text/plain": [
       "(171, {'source': '../data/docs/www.priceless.com/m/tour-the-city.html'})"
      ]
     },
     "execution_count": 4,
     "metadata": {},
     "output_type": "execute_result"
    }
   ],
   "source": [
    "loader = DirectoryLoader('../data/docs/', glob=\"**/*.html\", loader_cls=UnstructuredHTMLLoader)\n",
    "all_docs = loader.load()\n",
    "len(all_docs), all_docs[0].metadata"
   ]
  },
  {
   "cell_type": "code",
   "execution_count": 16,
   "metadata": {},
   "outputs": [
    {
     "name": "stderr",
     "output_type": "stream",
     "text": [
      "100%|██████████| 171/171 [00:00<00:00, 345484.58it/s]"
     ]
    },
    {
     "name": "stdout",
     "output_type": "stream",
     "text": [
      "CPU times: user 2.55 ms, sys: 3.02 ms, total: 5.57 ms\n",
      "Wall time: 4.61 ms\n"
     ]
    },
    {
     "name": "stderr",
     "output_type": "stream",
     "text": [
      "\n"
     ]
    },
    {
     "data": {
      "text/plain": [
       "(3, {'url': 'https://www.priceless.com/m/filter/options/category/506'})"
      ]
     },
     "execution_count": 16,
     "metadata": {},
     "output_type": "execute_result"
    }
   ],
   "source": [
    "%%time\n",
    "from tqdm.auto import tqdm\n",
    "\n",
    "urls = ['https://www.priceless.com/m/filter/options/category/506', \n",
    "        'https://www.priceless.com/m/filter/options/category/510',\n",
    "        'https://www.priceless.com/m/filter/options/location/9716/trk/20211/']\n",
    "documents = []\n",
    "\n",
    "for doc in tqdm(all_docs):\n",
    "    src = doc.metadata['source']\n",
    "    url = src.replace('../data/docs/', 'https://').replace('index.html', '').replace('.html', '')\n",
    "    if not url in urls:\n",
    "        continue\n",
    "    doc.metadata = dict()\n",
    "    doc.metadata['url'] = url\n",
    "    documents.append(doc)\n",
    "\n",
    "len(documents), documents[0].metadata"
   ]
  },
  {
   "cell_type": "code",
   "execution_count": 17,
   "metadata": {},
   "outputs": [
    {
     "data": {
      "text/plain": [
       "264"
      ]
     },
     "execution_count": 17,
     "metadata": {},
     "output_type": "execute_result"
    }
   ],
   "source": [
    "#splitting the text into\n",
    "text_splitter = RecursiveCharacterTextSplitter(chunk_size=512, chunk_overlap=32)\n",
    "texts = text_splitter.split_documents(documents)\n",
    "len(texts)"
   ]
  },
  {
   "cell_type": "code",
   "execution_count": 18,
   "metadata": {},
   "outputs": [
    {
     "data": {
      "text/plain": [
       "(Document(page_content='Chile (0) \\n        \\n                                                            \\n                                                                    \\n                                     All locations \\n                                            \\n                                                                        \\n                                     Santiago (0)', metadata={'url': 'https://www.priceless.com/m/filter/options/category/510'}),\n",
       " {'url': 'https://www.priceless.com/m/filter/options/category/510'})"
      ]
     },
     "execution_count": 18,
     "metadata": {},
     "output_type": "execute_result"
    }
   ],
   "source": [
    "texts[100], texts[100].metadata"
   ]
  },
  {
   "attachments": {},
   "cell_type": "markdown",
   "metadata": {},
   "source": [
    "## HF Instructor Embeddings"
   ]
  },
  {
   "cell_type": "code",
   "execution_count": 5,
   "metadata": {},
   "outputs": [
    {
     "data": {
      "application/vnd.jupyter.widget-view+json": {
       "model_id": "48eefd2c51aa4407b104792794285e61",
       "version_major": 2,
       "version_minor": 0
      },
      "text/plain": [
       "Downloading pytorch_model.bin:   0%|          | 0.00/4.96G [00:00<?, ?B/s]"
      ]
     },
     "metadata": {},
     "output_type": "display_data"
    },
    {
     "data": {
      "application/vnd.jupyter.widget-view+json": {
       "model_id": "dfa82c1366ef41f59fdc6598d109cd38",
       "version_major": 2,
       "version_minor": 0
      },
      "text/plain": [
       "Downloading (…)nce_bert_config.json:   0%|          | 0.00/53.0 [00:00<?, ?B/s]"
      ]
     },
     "metadata": {},
     "output_type": "display_data"
    },
    {
     "data": {
      "application/vnd.jupyter.widget-view+json": {
       "model_id": "ba2420fc7d7b4d2a97414d664ee49b60",
       "version_major": 2,
       "version_minor": 0
      },
      "text/plain": [
       "Downloading (…)cial_tokens_map.json:   0%|          | 0.00/2.20k [00:00<?, ?B/s]"
      ]
     },
     "metadata": {},
     "output_type": "display_data"
    },
    {
     "data": {
      "application/vnd.jupyter.widget-view+json": {
       "model_id": "f056dc9b55004b5b91623a4757b97fea",
       "version_major": 2,
       "version_minor": 0
      },
      "text/plain": [
       "Downloading spiece.model:   0%|          | 0.00/792k [00:00<?, ?B/s]"
      ]
     },
     "metadata": {},
     "output_type": "display_data"
    },
    {
     "data": {
      "application/vnd.jupyter.widget-view+json": {
       "model_id": "f35439772f6f4e398ddce227b228f673",
       "version_major": 2,
       "version_minor": 0
      },
      "text/plain": [
       "Downloading (…)7f436/tokenizer.json:   0%|          | 0.00/2.42M [00:00<?, ?B/s]"
      ]
     },
     "metadata": {},
     "output_type": "display_data"
    },
    {
     "data": {
      "application/vnd.jupyter.widget-view+json": {
       "model_id": "40a0b802a94844188c5ab4d983c5dea7",
       "version_major": 2,
       "version_minor": 0
      },
      "text/plain": [
       "Downloading (…)okenizer_config.json:   0%|          | 0.00/2.40k [00:00<?, ?B/s]"
      ]
     },
     "metadata": {},
     "output_type": "display_data"
    },
    {
     "data": {
      "application/vnd.jupyter.widget-view+json": {
       "model_id": "55e0e7c4a2b2440d9848710a73260494",
       "version_major": 2,
       "version_minor": 0
      },
      "text/plain": [
       "Downloading (…)f57f436/modules.json:   0%|          | 0.00/461 [00:00<?, ?B/s]"
      ]
     },
     "metadata": {},
     "output_type": "display_data"
    },
    {
     "name": "stdout",
     "output_type": "stream",
     "text": [
      "load INSTRUCTOR_Transformer\n",
      "max_seq_length  512\n"
     ]
    }
   ],
   "source": [
    "from langchain.embeddings import HuggingFaceInstructEmbeddings\n",
    "\n",
    "instructor_embeddings = HuggingFaceInstructEmbeddings(model_name=\"hkunlp/instructor-xl\", \n",
    "                                                      model_kwargs={\"device\": \"cpu\"})"
   ]
  },
  {
   "cell_type": "code",
   "execution_count": 13,
   "metadata": {},
   "outputs": [],
   "source": [
    "## utility functions\n",
    "\n",
    "import textwrap\n",
    "import os\n",
    "\n",
    "def wrap_text_preserve_newlines(text, width=110):\n",
    "    # Split the input text into lines based on newline characters\n",
    "    lines = text.split('\\n')\n",
    "\n",
    "    # Wrap each line individually\n",
    "    wrapped_lines = [textwrap.fill(line, width=width) for line in lines]\n",
    "\n",
    "    # Join the wrapped lines back together using newline characters\n",
    "    wrapped_text = '\\n'.join(wrapped_lines)\n",
    "\n",
    "    return wrapped_text\n",
    "\n",
    "def process_llm_response(llm_response):\n",
    "    print(wrap_text_preserve_newlines(llm_response['result']))\n",
    "    print('\\nSources:')\n",
    "    for source in llm_response[\"source_documents\"]:\n",
    "        print(source.metadata['url'] + \" page: \" + str(source.metadata['page']))\n",
    "        \n",
    "def mkdir(folder):\n",
    "    if not os.path.isdir(folder):\n",
    "        print('The directory is not present. Creating a new one..')\n",
    "        os.mkdir(folder)\n",
    "    else:\n",
    "        print('The directory is present.')"
   ]
  },
  {
   "cell_type": "code",
   "execution_count": 19,
   "metadata": {},
   "outputs": [
    {
     "name": "stderr",
     "output_type": "stream",
     "text": [
      "Using embedded DuckDB with persistence: data will be stored in: ../data/chromadb\n"
     ]
    },
    {
     "name": "stdout",
     "output_type": "stream",
     "text": [
      "The directory is present.\n",
      "CPU times: user 13min 47s, sys: 27.2 s, total: 14min 14s\n",
      "Wall time: 11min 46s\n"
     ]
    }
   ],
   "source": [
    "%%time\n",
    "\n",
    "persist_directory =  '../data/chromadb_hf'\n",
    "mkdir(persist_directory)\n",
    "\n",
    "chromadb_instructor_embeddings = Chroma.from_documents(documents=texts, \n",
    "                                 embedding=instructor_embeddings,\n",
    "                                 persist_directory=persist_directory)\n",
    "\n",
    "chromadb_instructor_embeddings.persist()"
   ]
  },
  {
   "cell_type": "code",
   "execution_count": 20,
   "metadata": {},
   "outputs": [],
   "source": [
    "chromadb_retriever = chromadb_instructor_embeddings.as_retriever(search_kwargs={\"k\": 4})"
   ]
  },
  {
   "cell_type": "code",
   "execution_count": 31,
   "metadata": {},
   "outputs": [
    {
     "name": "stdout",
     "output_type": "stream",
     "text": [
      "CPU times: user 780 ms, sys: 51.1 ms, total: 831 ms\n",
      "Wall time: 826 ms\n"
     ]
    },
    {
     "data": {
      "text/plain": [
       "[Document(page_content='Los Angeles (0) \\n                                            \\n                                                                        \\n                                     Miami (0) \\n                                            \\n                                                                        \\n                                     New York (0)', metadata={'url': 'https://www.priceless.com/m/filter/options/category/506'}),\n",
       " Document(page_content='Los Angeles (0) \\n                                            \\n                                                                        \\n                                     Miami (0) \\n                                            \\n                                                                        \\n                                     New York (0)', metadata={'url': 'https://www.priceless.com/m/filter/options/category/506'}),\n",
       " Document(page_content='Los Angeles (0) \\n                                            \\n                                                                        \\n                                     Miami (0) \\n                                            \\n                                                                        \\n                                     New York (0)', metadata={'url': 'https://www.priceless.com/m/filter/options/location/9716/trk/20211/'}),\n",
       " Document(page_content='Los Angeles (0) \\n                                            \\n                                                                        \\n                                     Miami (0) \\n                                            \\n                                                                        \\n                                     New York (0)', metadata={'url': 'https://www.priceless.com/m/filter/options/location/9716/trk/20211/'})]"
      ]
     },
     "execution_count": 31,
     "metadata": {},
     "output_type": "execute_result"
    }
   ],
   "source": [
    "%%time\n",
    "\n",
    "docs = chromadb_retriever.get_relevant_documents(\"Entertainment in New York\")\n",
    "docs"
   ]
  },
  {
   "attachments": {},
   "cell_type": "markdown",
   "metadata": {},
   "source": [
    "## OpenAI's Embeddings"
   ]
  },
  {
   "cell_type": "code",
   "execution_count": 26,
   "metadata": {},
   "outputs": [],
   "source": [
    "from langchain.embeddings import OpenAIEmbeddings\n",
    "openai_embeddings = OpenAIEmbeddings()"
   ]
  },
  {
   "cell_type": "code",
   "execution_count": 27,
   "metadata": {},
   "outputs": [
    {
     "name": "stderr",
     "output_type": "stream",
     "text": [
      "Using embedded DuckDB with persistence: data will be stored in: ../data/chromadb_openai\n"
     ]
    },
    {
     "name": "stdout",
     "output_type": "stream",
     "text": [
      "The directory is not present. Creating a new one..\n"
     ]
    }
   ],
   "source": [
    "persist_directory =  '../data/chromadb_openai'\n",
    "mkdir(persist_directory)\n",
    "\n",
    "chromadb_openai_embeddings = Chroma.from_documents(documents=texts, \n",
    "                                 embedding=openai_embeddings,\n",
    "                                 persist_directory=persist_directory)"
   ]
  },
  {
   "cell_type": "code",
   "execution_count": 28,
   "metadata": {},
   "outputs": [],
   "source": [
    "chromadb_retriever_openai = chromadb_openai_embeddings.as_retriever(search_kwargs={\"k\": 4})"
   ]
  },
  {
   "cell_type": "code",
   "execution_count": 32,
   "metadata": {},
   "outputs": [
    {
     "name": "stdout",
     "output_type": "stream",
     "text": [
      "CPU times: user 5.09 ms, sys: 1.4 ms, total: 6.49 ms\n",
      "Wall time: 356 ms\n"
     ]
    },
    {
     "data": {
      "text/plain": [
       "[Document(page_content='Los Angeles (0) \\n                                            \\n                                                                        \\n                                     Miami (0) \\n                                            \\n                                                                        \\n                                     New York (0)', metadata={'url': 'https://www.priceless.com/m/filter/options/category/506'}),\n",
       " Document(page_content='Los Angeles (0) \\n                                            \\n                                                                        \\n                                     Miami (0) \\n                                            \\n                                                                        \\n                                     New York (0)', metadata={'url': 'https://www.priceless.com/m/filter/options/category/506'}),\n",
       " Document(page_content='Los Angeles (0) \\n                                            \\n                                                                        \\n                                     Miami (0) \\n                                            \\n                                                                        \\n                                     New York (0)', metadata={'url': 'https://www.priceless.com/m/filter/options/category/510'}),\n",
       " Document(page_content='Los Angeles (0) \\n                                            \\n                                                                        \\n                                     Miami (0) \\n                                            \\n                                                                        \\n                                     New York (0)', metadata={'url': 'https://www.priceless.com/m/filter/options/location/9716/trk/20211/'})]"
      ]
     },
     "execution_count": 32,
     "metadata": {},
     "output_type": "execute_result"
    }
   ],
   "source": [
    "%%time\n",
    "\n",
    "docs = chromadb_retriever_openai.get_relevant_documents(\"Entertainment in New York\")\n",
    "docs"
   ]
  },
  {
   "attachments": {},
   "cell_type": "markdown",
   "metadata": {},
   "source": [
    "## Process all docs with GPT4ALL-J & Chroma"
   ]
  },
  {
   "cell_type": "code",
   "execution_count": 37,
   "metadata": {},
   "outputs": [
    {
     "name": "stderr",
     "output_type": "stream",
     "text": [
      "100%|██████████| 171/171 [00:00<00:00, 275750.09it/s]"
     ]
    },
    {
     "name": "stdout",
     "output_type": "stream",
     "text": [
      "CPU times: user 2.18 ms, sys: 1.15 ms, total: 3.33 ms\n",
      "Wall time: 2.53 ms\n"
     ]
    },
    {
     "name": "stderr",
     "output_type": "stream",
     "text": [
      "\n"
     ]
    },
    {
     "data": {
      "text/plain": [
       "(171, {'url': 'https://www.priceless.com/m/tour-the-city'})"
      ]
     },
     "execution_count": 37,
     "metadata": {},
     "output_type": "execute_result"
    }
   ],
   "source": [
    "%%time\n",
    "from tqdm.auto import tqdm\n",
    "\n",
    "documents = []\n",
    "\n",
    "for doc in tqdm(all_docs):\n",
    "    if 'source' in doc.metadata:\n",
    "        src = doc.metadata['source']\n",
    "        url = src.replace('../data/docs/', 'https://').replace('index.html', '').replace('.html', '')\n",
    "        doc.metadata = dict()\n",
    "        doc.metadata['url'] = url\n",
    "        \n",
    "    documents.append(doc)\n",
    "\n",
    "len(documents), documents[0].metadata"
   ]
  },
  {
   "cell_type": "code",
   "execution_count": 38,
   "metadata": {},
   "outputs": [
    {
     "data": {
      "text/plain": [
       "5488"
      ]
     },
     "execution_count": 38,
     "metadata": {},
     "output_type": "execute_result"
    }
   ],
   "source": [
    "#splitting the text into\n",
    "text_splitter = RecursiveCharacterTextSplitter(chunk_size=512, chunk_overlap=32)\n",
    "texts = text_splitter.split_documents(documents)\n",
    "len(texts)"
   ]
  },
  {
   "cell_type": "code",
   "execution_count": 39,
   "metadata": {},
   "outputs": [
    {
     "name": "stderr",
     "output_type": "stream",
     "text": [
      "Using embedded DuckDB with persistence: data will be stored in: ../data/chromadb\n"
     ]
    },
    {
     "name": "stdout",
     "output_type": "stream",
     "text": [
      "The directory is not present. Creating a new one..\n",
      "CPU times: user 5h 13min 24s, sys: 8min 40s, total: 5h 22min 5s\n",
      "Wall time: 4h 30min 27s\n"
     ]
    }
   ],
   "source": [
    "%%time\n",
    "\n",
    "persist_directory =  '../data/chromadb'\n",
    "mkdir(persist_directory)\n",
    "\n",
    "chromadb_instructor_embeddings = Chroma.from_documents(documents=texts, \n",
    "                                 embedding=instructor_embeddings,\n",
    "                                 persist_directory=persist_directory)\n",
    "\n",
    "chromadb_instructor_embeddings.persist()"
   ]
  },
  {
   "cell_type": "code",
   "execution_count": 41,
   "metadata": {},
   "outputs": [],
   "source": [
    "chromadb_retriever = chromadb_instructor_embeddings.as_retriever(search_kwargs={\"k\": 4})"
   ]
  },
  {
   "cell_type": "code",
   "execution_count": 42,
   "metadata": {},
   "outputs": [
    {
     "name": "stdout",
     "output_type": "stream",
     "text": [
      "CPU times: user 842 ms, sys: 57 ms, total: 899 ms\n",
      "Wall time: 893 ms\n"
     ]
    },
    {
     "data": {
      "text/plain": [
       "[Document(page_content=\"Midnight Theatre\\n\\nFollow\\n\\nReceive star treatment at New York City's Midnight Theatre\\n\\nSavor signature cocktails and dim sum snacks\\n\\nMore...\\n\\nLess\\n\\nNew York, New York\\n\\n2.5 hours\\n\\nThe Midnight Theatre Map it\\n\\n3/31 @ 9:30 p.m. Bingo Night at MT  - Sales closed!\\n\\n4/07 @ 10 p.m. - Rachel Feinstein  - Sales closed!\\n\\n4/10 @ 10 p.m. - Tribulations, Roy Wood  - Sales closed!\\n\\n4/28 @ 10 p.m. - Midnight Follies\\n\\n6/15 @ 10:30 p.m. - Laura Marano\\n\\n5/19 @ 7 p.m. - American Immigrants\\n\\n5/20 @ 7 p.m. - American Immigrants\", metadata={'url': 'https://www.priceless.com/m/entertainment/product/181398/the-midnight-theatre-priceless-night/511/78'}),\n",
       " Document(page_content='Distances are displayed to the nearest 0.1 mile and kilometer. \\n Times Square - 0.1 km / 0.1 mi \\n Broadway - 0.1 km / 0.1 mi \\n Minskoff Theater - 0.1 km / 0.1 mi \\n Lunt-Fontanne Theatre - 0.1 km / 0.1 mi \\n Richard Rodgers Theatre - 0.2 km / 0.1 mi \\n Shubert Theatre - 0.2 km / 0.1 mi \\n St. James Theatre - 0.3 km / 0.2 mi \\n The Majestic Theater - 0.3 km / 0.2 mi \\n New Amsterdam Theater - 0.4 km / 0.2 mi \\n Ambassador Theatre - 0.4 km / 0.2 mi \\n Madame Tussauds Wax Museum - 0.4 km / 0.2 mi', metadata={'url': 'https://www.priceless.com/m/travel/product/171103/new-york-marriott-marquis/509/78'}),\n",
       " Document(page_content='Distances are displayed to the nearest 0.1 mile and kilometer. \\n Times Square - 0.1 km / 0.1 mi \\n Broadway - 0.1 km / 0.1 mi \\n Minskoff Theater - 0.1 km / 0.1 mi \\n Lunt-Fontanne Theatre - 0.1 km / 0.1 mi \\n Richard Rodgers Theatre - 0.2 km / 0.1 mi \\n Shubert Theatre - 0.2 km / 0.1 mi \\n St. James Theatre - 0.3 km / 0.2 mi \\n The Majestic Theater - 0.3 km / 0.2 mi \\n New Amsterdam Theater - 0.4 km / 0.2 mi \\n Ambassador Theatre - 0.4 km / 0.2 mi \\n Madame Tussauds Wax Museum - 0.4 km / 0.2 mi', metadata={'url': 'https://www.priceless.com/travel/product/171103/new-york-marriott-marquis?country=us'}),\n",
       " Document(page_content='Distances are displayed to the nearest 0.1 mile and kilometer. \\n Times Square - 0.1 km / 0.1 mi \\n Broadway - 0.1 km / 0.1 mi \\n Minskoff Theater - 0.1 km / 0.1 mi \\n Lunt-Fontanne Theatre - 0.1 km / 0.1 mi \\n Richard Rodgers Theatre - 0.2 km / 0.1 mi \\n Shubert Theatre - 0.2 km / 0.1 mi \\n St. James Theatre - 0.3 km / 0.2 mi \\n The Majestic Theater - 0.3 km / 0.2 mi \\n New Amsterdam Theater - 0.4 km / 0.2 mi \\n Ambassador Theatre - 0.4 km / 0.2 mi \\n Madame Tussauds Wax Museum - 0.4 km / 0.2 mi', metadata={'url': 'https://www.priceless.com/travel/product/171103/new-york-marriott-marquis/509/78'})]"
      ]
     },
     "execution_count": 42,
     "metadata": {},
     "output_type": "execute_result"
    }
   ],
   "source": [
    "%%time\n",
    "\n",
    "docs = chromadb_retriever.get_relevant_documents(\"Entertainment in New York\")\n",
    "docs"
   ]
  },
  {
   "attachments": {},
   "cell_type": "markdown",
   "metadata": {},
   "source": [
    "## Compare GPT4ALL-J and OpenAI"
   ]
  },
  {
   "attachments": {},
   "cell_type": "markdown",
   "metadata": {},
   "source": [
    "TODO"
   ]
  }
 ],
 "metadata": {
  "kernelspec": {
   "display_name": "base",
   "language": "python",
   "name": "python3"
  },
  "language_info": {
   "codemirror_mode": {
    "name": "ipython",
    "version": 3
   },
   "file_extension": ".py",
   "mimetype": "text/x-python",
   "name": "python",
   "nbconvert_exporter": "python",
   "pygments_lexer": "ipython3",
   "version": "3.10.9"
  },
  "orig_nbformat": 4
 },
 "nbformat": 4,
 "nbformat_minor": 2
}
