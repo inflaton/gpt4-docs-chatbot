{
 "cells": [
  {
   "attachments": {},
   "cell_type": "markdown",
   "metadata": {},
   "source": [
    "## Download PDF files from https://www.pcisecuritystandards.org/document_library/"
   ]
  },
  {
   "cell_type": "code",
   "execution_count": 1,
   "metadata": {},
   "outputs": [],
   "source": [
    "!pip install -qU bs4 selenium"
   ]
  },
  {
   "cell_type": "code",
   "execution_count": 21,
   "metadata": {},
   "outputs": [
    {
     "name": "stdout",
     "output_type": "stream",
     "text": [
      "https://docs-prv.pcisecuritystandards.org/PCI%20DSS/Standard/PCI-DSS-v3-2-1-to-v4-0-Summary-of-Changes-r2.pdf\n",
      "https://docs-prv.pcisecuritystandards.org/PCI%20DSS/General%20Guidance/PCI-DSS-v4-0-At-A-Glance.pdf\n",
      "https://docs-prv.pcisecuritystandards.org/PCI%20DSS/Reporting%20Template%20or%20Form/PCI-DSS-v4-0-DESV-AOC-r1.pdf\n",
      "https://docs-prv.pcisecuritystandards.org/PCI%20DSS/Frequently%20Asked%20Questions%20(FAQ)/PCI-DSS-v4-0-DESV-FAQs.pdf\n",
      "https://docs-prv.pcisecuritystandards.org/PCI%20DSS/Reporting%20Template%20or%20Form/PCI-DSS-v4-0-DESV-S-ROC-Template-r1.pdf\n",
      "https://docs-prv.pcisecuritystandards.org/PCI%20DSS/Reporting%20Template%20or%20Form/PCI-DSS-v4-0-ROC-AOC-Merchants-r1.pdf\n",
      "https://docs-prv.pcisecuritystandards.org/PCI%20DSS/Frequently%20Asked%20Questions%20(FAQ)/PCI-DSS-v4-0-ROC-Template-FAQs-r1.pdf\n",
      "https://docs-prv.pcisecuritystandards.org/PCI%20DSS/Reporting%20Template%20or%20Form/PCI-DSS-v4-0-ROC-Template-r1.pdf\n",
      "https://docs-prv.pcisecuritystandards.org/PCI%20DSS/Reporting%20Template%20or%20Form/PCI-DSS-v4_0-ROC-AOC-Service-Providers-r1.pdf\n",
      "https://docs-prv.pcisecuritystandards.org/PCI%20DSS/Standard/PCI-DSS-v4_0.pdf\n",
      "https://docs-prv.pcisecuritystandards.org/PCI%20DSS/Supporting%20Document/PCI_DSS-QRG-v4_0.pdf\n",
      "https://docs-prv.pcisecuritystandards.org/PCI%20DSS/Supporting%20Document/PCI_DSS_Glossary_v3-2.pdf\n",
      "https://docs-prv.pcisecuritystandards.org/PCI%20DSS/Supporting%20Document/Prioritized-Approach-For-PCI-DSS-v4-0.pdf\n"
     ]
    },
    {
     "data": {
      "text/plain": [
       "13"
      ]
     },
     "execution_count": 21,
     "metadata": {},
     "output_type": "execute_result"
    }
   ],
   "source": [
    "import os\n",
    "import urllib\n",
    "from bs4 import BeautifulSoup\n",
    "\n",
    "html_page = urllib.request.urlopen(\"file://\" + os.path.abspath(\"../data/pci_dss_v4/pci_dss_docs.html\"))\n",
    "soup = BeautifulSoup(html_page, \"html.parser\")\n",
    "urls = []\n",
    "for link in soup.findAll('a'):\n",
    "    url = link.get('href')\n",
    "    if not url in urls and url.lower().endswith('.pdf') and url.startswith('http'):\n",
    "        urls.append(url)\n",
    "\n",
    "urls.sort(key=lambda x: x.split('/')[-1])\n",
    "\n",
    "for url in urls:\n",
    "    print(url)\n",
    "\n",
    "len(urls)"
   ]
  },
  {
   "cell_type": "code",
   "execution_count": 11,
   "metadata": {},
   "outputs": [],
   "source": [
    "import time\n",
    "import os\n",
    "\n",
    "def download_wait(directory, timeout, nfiles=None):\n",
    "    \"\"\"\n",
    "    Wait for downloads to finish with a specified timeout.\n",
    "\n",
    "    Args\n",
    "    ----\n",
    "    directory : str\n",
    "        The path to the folder where the files will be downloaded.\n",
    "    timeout : int\n",
    "        How many seconds to wait until timing out.\n",
    "    nfiles : int, defaults to None\n",
    "        If provided, also wait for the expected number of files.\n",
    "\n",
    "    \"\"\"\n",
    "    seconds = 0\n",
    "    dl_wait = True\n",
    "    while dl_wait and seconds < timeout:\n",
    "        time.sleep(1)\n",
    "        dl_wait = False\n",
    "        files = os.listdir(directory)\n",
    "        if nfiles and len(files) != nfiles:\n",
    "            dl_wait = True\n",
    "\n",
    "        for fname in files:\n",
    "            if fname.endswith('.crdownload'):\n",
    "                dl_wait = True\n",
    "\n",
    "        seconds += 1\n",
    "    return seconds"
   ]
  },
  {
   "cell_type": "code",
   "execution_count": 23,
   "metadata": {},
   "outputs": [],
   "source": [
    "from selenium.webdriver.support import expected_conditions as EC\n",
    "from selenium.webdriver.support.wait import WebDriverWait\n",
    "from selenium.webdriver.common.by import By\n",
    "from selenium import webdriver\n",
    "\n",
    "def download(url, folder, wait_for_cookie_and_license):\n",
    "    print(\"downloading: \" + url)\n",
    "    options = webdriver.ChromeOptions()\n",
    "    options.add_experimental_option('prefs', {\n",
    "        \"download.default_directory\": folder,\n",
    "        \"download.prompt_for_download\": False, #To auto download the file\n",
    "        \"download.directory_upgrade\": True,\n",
    "        \"plugins.always_open_pdf_externally\": True #It will not show PDF directly in chrome\n",
    "        })\n",
    "\n",
    "    driver = webdriver.Chrome(options=options)\n",
    "    driver.get(url)\n",
    "\n",
    "    if wait_for_cookie_and_license:\n",
    "        wait = WebDriverWait(driver, 20)\n",
    "        try:\n",
    "            accept = wait.until(EC.element_to_be_clickable((By.ID, 'ccc-notify-accept')))\n",
    "            accept.click()\n",
    "        except:\n",
    "            # code to handle the error\n",
    "            print('ignoring exception - 1')\n",
    "        \n",
    "        try:\n",
    "            user_input = wait.until(EC.element_to_be_clickable((By.ID, 'contact_name')))\n",
    "            # user_input = driver.find_element(\"id\", \"contact_name\")\n",
    "            user_input.send_keys(\"Jerry Smith\")\n",
    "\n",
    "            user_input = driver.find_element(\"id\", \"contact_title\")\n",
    "            user_input.send_keys(\"Senior Software Engineer\")\n",
    "\n",
    "            user_input = driver.find_element(\"id\", \"company\")\n",
    "            user_input.send_keys(\"ABC\")\n",
    "\n",
    "            user_input = driver.find_element(\"id\", \"country\")\n",
    "            user_input.send_keys(\"US\")\n",
    "\n",
    "            driver.execute_script(\"accept_agreement(); return false;\")\n",
    "        except:\n",
    "            # code to handle the error\n",
    "            print('ignoring exception - 2')\n",
    "    \n",
    "    download_wait(folder, 10)\n",
    "    driver.close()"
   ]
  },
  {
   "cell_type": "code",
   "execution_count": 24,
   "metadata": {},
   "outputs": [
    {
     "name": "stdout",
     "output_type": "stream",
     "text": [
      "The directory is not present. Creating a new one..\n",
      "downloading: https://docs-prv.pcisecuritystandards.org/PCI%20DSS/Standard/PCI-DSS-v3-2-1-to-v4-0-Summary-of-Changes-r2.pdf\n",
      "ignoring exception - 1\n",
      "downloading: https://docs-prv.pcisecuritystandards.org/PCI%20DSS/General%20Guidance/PCI-DSS-v4-0-At-A-Glance.pdf\n",
      "downloading: https://docs-prv.pcisecuritystandards.org/PCI%20DSS/Reporting%20Template%20or%20Form/PCI-DSS-v4-0-DESV-AOC-r1.pdf\n",
      "downloading: https://docs-prv.pcisecuritystandards.org/PCI%20DSS/Frequently%20Asked%20Questions%20(FAQ)/PCI-DSS-v4-0-DESV-FAQs.pdf\n",
      "downloading: https://docs-prv.pcisecuritystandards.org/PCI%20DSS/Reporting%20Template%20or%20Form/PCI-DSS-v4-0-DESV-S-ROC-Template-r1.pdf\n",
      "downloading: https://docs-prv.pcisecuritystandards.org/PCI%20DSS/Reporting%20Template%20or%20Form/PCI-DSS-v4-0-ROC-AOC-Merchants-r1.pdf\n",
      "downloading: https://docs-prv.pcisecuritystandards.org/PCI%20DSS/Frequently%20Asked%20Questions%20(FAQ)/PCI-DSS-v4-0-ROC-Template-FAQs-r1.pdf\n",
      "downloading: https://docs-prv.pcisecuritystandards.org/PCI%20DSS/Reporting%20Template%20or%20Form/PCI-DSS-v4-0-ROC-Template-r1.pdf\n",
      "downloading: https://docs-prv.pcisecuritystandards.org/PCI%20DSS/Reporting%20Template%20or%20Form/PCI-DSS-v4_0-ROC-AOC-Service-Providers-r1.pdf\n",
      "downloading: https://docs-prv.pcisecuritystandards.org/PCI%20DSS/Standard/PCI-DSS-v4_0.pdf\n",
      "downloading: https://docs-prv.pcisecuritystandards.org/PCI%20DSS/Supporting%20Document/PCI_DSS-QRG-v4_0.pdf\n",
      "downloading: https://docs-prv.pcisecuritystandards.org/PCI%20DSS/Supporting%20Document/PCI_DSS_Glossary_v3-2.pdf\n",
      "downloading: https://docs-prv.pcisecuritystandards.org/PCI%20DSS/Supporting%20Document/Prioritized-Approach-For-PCI-DSS-v4-0.pdf\n",
      "CPU times: user 75.6 ms, sys: 160 ms, total: 236 ms\n",
      "Wall time: 1min 8s\n"
     ]
    }
   ],
   "source": [
    "%%time\n",
    "import os\n",
    "\n",
    "folder = os.path.abspath(\"../data/pci_dss_v4/pdfs\")\n",
    "if not os.path.isdir(folder):\n",
    "    print('The directory is not present. Creating a new one..')\n",
    "    os.mkdir(folder)\n",
    "else:\n",
    "    print('The directory is present.')\n",
    "\n",
    "wait_for_cookie_and_license = True\n",
    "for url in urls:\n",
    "    download(url, folder, wait_for_cookie_and_license)\n",
    "    if wait_for_cookie_and_license:\n",
    "        wait_for_cookie_and_license = False"
   ]
  },
  {
   "attachments": {},
   "cell_type": "markdown",
   "metadata": {},
   "source": [
    "# LangChain multi-doc retriever with ChromaDB\n",
    "\n",
    "***New Points***\n",
    "- Multiple Files - PDFs\n",
    "- ChromaDB - with more meta data?\n",
    "- Source info \n",
    "- gpt-3.5-turbo API\n",
    "- HuggingFace Embeddings\n",
    "- Instuctor Embeddings"
   ]
  },
  {
   "cell_type": "code",
   "execution_count": 28,
   "metadata": {},
   "outputs": [
    {
     "name": "stdout",
     "output_type": "stream",
     "text": [
      "\u001b[31mERROR: pip's dependency resolver does not currently take into account all the packages that are installed. This behaviour is the source of the following dependency conflicts.\n",
      "llama-index 0.5.27 requires langchain==0.0.142, but you have langchain 0.0.165 which is incompatible.\u001b[0m\u001b[31m\n",
      "\u001b[0mName: langchain\n",
      "Version: 0.0.165\n",
      "Summary: Building applications with LLMs through composability\n",
      "Home-page: https://www.github.com/hwchase17/langchain\n",
      "Author: \n",
      "Author-email: \n",
      "License: MIT\n",
      "Location: /Users/inflaton/miniconda3/lib/python3.10/site-packages\n",
      "Requires: aiohttp, async-timeout, dataclasses-json, numexpr, numpy, openapi-schema-pydantic, pydantic, PyYAML, requests, SQLAlchemy, tenacity, tqdm\n",
      "Required-by: llama-index\n"
     ]
    }
   ],
   "source": [
    "!pip install -qU langchain openai tiktoken chromadb pypdf sentence_transformers InstructorEmbedding\n",
    "!pip show langchain"
   ]
  },
  {
   "attachments": {},
   "cell_type": "markdown",
   "metadata": {},
   "source": [
    "## Setting up LangChain "
   ]
  },
  {
   "cell_type": "code",
   "execution_count": 29,
   "metadata": {},
   "outputs": [
    {
     "data": {
      "text/plain": [
       "True"
      ]
     },
     "execution_count": 29,
     "metadata": {},
     "output_type": "execute_result"
    }
   ],
   "source": [
    "from dotenv import load_dotenv\n",
    "load_dotenv('../.env', override=True)"
   ]
  },
  {
   "cell_type": "code",
   "execution_count": 30,
   "metadata": {},
   "outputs": [
    {
     "name": "stderr",
     "output_type": "stream",
     "text": [
      "/Users/inflaton/miniconda3/lib/python3.10/site-packages/InstructorEmbedding/instructor.py:7: TqdmExperimentalWarning: Using `tqdm.autonotebook.tqdm` in notebook mode. Use `tqdm.tqdm` instead to force console mode (e.g. in jupyter console)\n",
      "  from tqdm.autonotebook import trange\n"
     ]
    }
   ],
   "source": [
    "from langchain.vectorstores import Chroma\n",
    "from langchain.text_splitter import RecursiveCharacterTextSplitter\n",
    "from langchain.llms import OpenAI\n",
    "from langchain.chains import RetrievalQA\n",
    "from langchain.document_loaders import TextLoader\n",
    "from langchain.document_loaders import PyPDFLoader\n",
    "from langchain.document_loaders import DirectoryLoader\n",
    "\n",
    "\n",
    "from InstructorEmbedding import INSTRUCTOR\n",
    "from langchain.embeddings import HuggingFaceInstructEmbeddings"
   ]
  },
  {
   "attachments": {},
   "cell_type": "markdown",
   "metadata": {},
   "source": [
    "## Load multiple and process documents"
   ]
  },
  {
   "cell_type": "code",
   "execution_count": 31,
   "metadata": {},
   "outputs": [
    {
     "data": {
      "text/plain": [
       "725"
      ]
     },
     "execution_count": 31,
     "metadata": {},
     "output_type": "execute_result"
    }
   ],
   "source": [
    "loader = DirectoryLoader('../data/pci_dss_v4/pdfs/', glob=\"./*.pdf\", loader_cls=PyPDFLoader)\n",
    "\n",
    "documents = loader.load()\n",
    "len(documents)"
   ]
  },
  {
   "cell_type": "code",
   "execution_count": 33,
   "metadata": {},
   "outputs": [
    {
     "data": {
      "text/plain": [
       "1669"
      ]
     },
     "execution_count": 33,
     "metadata": {},
     "output_type": "execute_result"
    }
   ],
   "source": [
    "#splitting the text into\n",
    "text_splitter = RecursiveCharacterTextSplitter(chunk_size=1000, chunk_overlap=200)\n",
    "texts = text_splitter.split_documents(documents)\n",
    "len(texts)"
   ]
  },
  {
   "cell_type": "code",
   "execution_count": 38,
   "metadata": {},
   "outputs": [],
   "source": [
    "for text in texts:\n",
    "    source = text.metadata['source']\n",
    "    filename = source.split('/')[-1]\n",
    "    for url in urls:\n",
    "        if url.endswith(filename):\n",
    "            text.metadata['url'] = url\n",
    "            break"
   ]
  },
  {
   "cell_type": "code",
   "execution_count": 40,
   "metadata": {},
   "outputs": [
    {
     "data": {
      "text/plain": [
       "(Document(page_content='PCI DSS v4.0 ROC Template r1  December 2022  \\n© 2006 - 2022 PCI Security Standards Council, LLC. All rights reserved.   Page 20 \\nFor each service provider or third party, provide:  \\nCompany Name  Identify what \\naccount data is \\nshared or , if \\naccount data is not \\nshared,  how the \\norganization could \\nimpact the security \\nof account data1 Describe the purpose for \\nutilizing  \\nthe service provider2 Has the third \\nparty been \\nassessed \\nseparately \\nagainst  PCI \\nDSS?  If Yes,  \\nidentify the date and \\nPCI DSS version of the \\nAOC.  If No, were the \\nservices \\nprovided by the \\nthird party \\nincluded in this \\nassessment?  \\nYes No Date  Version  Yes No \\n<Enter Response \\nHere>  <Enter Response Here>  <Enter Response Here>  \\n☐ ☐ <Enter \\nResponse \\nHere>  <Enter \\nResponse Here>  ☐ ☐ \\n<Enter Response \\nHere>  <Enter Response Here>  <Enter Response Here>  \\n☐ ☐ <Enter \\nResponse \\nHere>  <Enter \\nResponse Here>  ☐ ☐ \\n<Enter Response \\nHere>  <Enter Response Here>  <Enter Response Here>  \\n☐ ☐ <Enter', metadata={'source': '../data/pci_dss_v4/pdfs/PCI-DSS-v4-0-ROC-Template-r1.pdf', 'page': 35, 'url': 'https://docs-prv.pcisecuritystandards.org/PCI%20DSS/Reporting%20Template%20or%20Form/PCI-DSS-v4-0-ROC-Template-r1.pdf'}),\n",
       " {'source': '../data/pci_dss_v4/pdfs/PCI-DSS-v4-0-ROC-Template-r1.pdf',\n",
       "  'page': 35,\n",
       "  'url': 'https://docs-prv.pcisecuritystandards.org/PCI%20DSS/Reporting%20Template%20or%20Form/PCI-DSS-v4-0-ROC-Template-r1.pdf'})"
      ]
     },
     "execution_count": 40,
     "metadata": {},
     "output_type": "execute_result"
    }
   ],
   "source": [
    "texts[100], texts[100].metadata"
   ]
  },
  {
   "attachments": {},
   "cell_type": "markdown",
   "metadata": {},
   "source": [
    "## HF Instructor Embeddings"
   ]
  },
  {
   "cell_type": "code",
   "execution_count": null,
   "metadata": {},
   "outputs": [],
   "source": [
    "from langchain.embeddings import HuggingFaceInstructEmbeddings\n",
    "\n",
    "instructor_embeddings = HuggingFaceInstructEmbeddings(model_name=\"hkunlp/instructor-xl\", \n",
    "                                                      model_kwargs={\"device\": \"cpu\"})"
   ]
  }
 ],
 "metadata": {
  "kernelspec": {
   "display_name": "base",
   "language": "python",
   "name": "python3"
  },
  "language_info": {
   "codemirror_mode": {
    "name": "ipython",
    "version": 3
   },
   "file_extension": ".py",
   "mimetype": "text/x-python",
   "name": "python",
   "nbconvert_exporter": "python",
   "pygments_lexer": "ipython3",
   "version": "3.10.9"
  },
  "orig_nbformat": 4
 },
 "nbformat": 4,
 "nbformat_minor": 2
}
